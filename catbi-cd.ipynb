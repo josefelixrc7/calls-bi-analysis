{
 "cells": [
  {
   "cell_type": "code",
   "execution_count": 1,
   "metadata": {},
   "outputs": [
    {
     "name": "stdout",
     "output_type": "stream",
     "text": [
      "- catBI: CD\n"
     ]
    }
   ],
   "source": [
    "\n",
    "import pandas as pd\n",
    "import mysql.connector\n",
    "\n",
    "from upload_data import UploadData\n",
    "from add_transactions import AddTransactions\n",
    "from download_data import DownloadData\n",
    "\n",
    "print(\"- catBI: CD\")"
   ]
  },
  {
   "cell_type": "code",
   "execution_count": null,
   "metadata": {},
   "outputs": [],
   "source": [
    "# Upload and add new transactions\n",
    "UploadData(\"~/data_vicidial_eci_20241104.csv\")\n",
    "AddTransactions()"
   ]
  },
  {
   "cell_type": "code",
   "execution_count": 2,
   "metadata": {},
   "outputs": [
    {
     "name": "stdout",
     "output_type": "stream",
     "text": [
      "- Download Data\n"
     ]
    }
   ],
   "source": [
    "# Download data\n",
    "DownloadData()"
   ]
  },
  {
   "cell_type": "code",
   "execution_count": 4,
   "metadata": {},
   "outputs": [
    {
     "data": {
      "text/html": [
       "<div>\n",
       "<style scoped>\n",
       "    .dataframe tbody tr th:only-of-type {\n",
       "        vertical-align: middle;\n",
       "    }\n",
       "\n",
       "    .dataframe tbody tr th {\n",
       "        vertical-align: top;\n",
       "    }\n",
       "\n",
       "    .dataframe thead th {\n",
       "        text-align: right;\n",
       "    }\n",
       "</style>\n",
       "<table border=\"1\" class=\"dataframe\">\n",
       "  <thead>\n",
       "    <tr style=\"text-align: right;\">\n",
       "      <th></th>\n",
       "      <th>id_record</th>\n",
       "      <th>duration</th>\n",
       "      <th>user</th>\n",
       "      <th>call_at</th>\n",
       "      <th>status</th>\n",
       "      <th>nir</th>\n",
       "    </tr>\n",
       "  </thead>\n",
       "  <tbody>\n",
       "    <tr>\n",
       "      <th>0</th>\n",
       "      <td>34108</td>\n",
       "      <td>370</td>\n",
       "      <td>PAR020</td>\n",
       "      <td>2024-11-04 09:48:06</td>\n",
       "      <td>1</td>\n",
       "      <td>557</td>\n",
       "    </tr>\n",
       "    <tr>\n",
       "      <th>1</th>\n",
       "      <td>34581</td>\n",
       "      <td>430</td>\n",
       "      <td>PAR020</td>\n",
       "      <td>2024-11-04 09:49:59</td>\n",
       "      <td>1</td>\n",
       "      <td>558</td>\n",
       "    </tr>\n",
       "    <tr>\n",
       "      <th>2</th>\n",
       "      <td>27774</td>\n",
       "      <td>510</td>\n",
       "      <td>PAR040</td>\n",
       "      <td>2024-11-04 10:06:40</td>\n",
       "      <td>1</td>\n",
       "      <td>552</td>\n",
       "    </tr>\n",
       "    <tr>\n",
       "      <th>3</th>\n",
       "      <td>57550</td>\n",
       "      <td>750</td>\n",
       "      <td>PAR074</td>\n",
       "      <td>2024-11-04 10:10:45</td>\n",
       "      <td>1</td>\n",
       "      <td>764</td>\n",
       "    </tr>\n",
       "    <tr>\n",
       "      <th>4</th>\n",
       "      <td>38477</td>\n",
       "      <td>420</td>\n",
       "      <td>PAR040</td>\n",
       "      <td>2024-11-04 10:11:12</td>\n",
       "      <td>1</td>\n",
       "      <td>563</td>\n",
       "    </tr>\n",
       "  </tbody>\n",
       "</table>\n",
       "</div>"
      ],
      "text/plain": [
       "   id_record  duration    user              call_at status  nir\n",
       "0      34108       370  PAR020  2024-11-04 09:48:06      1  557\n",
       "1      34581       430  PAR020  2024-11-04 09:49:59      1  558\n",
       "2      27774       510  PAR040  2024-11-04 10:06:40      1  552\n",
       "3      57550       750  PAR074  2024-11-04 10:10:45      1  764\n",
       "4      38477       420  PAR040  2024-11-04 10:11:12      1  563"
      ]
     },
     "execution_count": 4,
     "metadata": {},
     "output_type": "execute_result"
    }
   ],
   "source": [
    "# Processing\n",
    "records = pd.read_csv(\"~/records.csv\", sep = \",\", names=['id', 'record'], skiprows=1)\n",
    "transactions = pd.read_csv(\"~/transactions.csv\", sep = \",\", names=['id_record', 'duration', 'user','call_at', 'status', 'nir'], skiprows=1)"
   ]
  },
  {
   "cell_type": "code",
   "execution_count": 50,
   "metadata": {},
   "outputs": [
    {
     "name": "stdout",
     "output_type": "stream",
     "text": [
      "Calls: 256741\n",
      "Calls transfered: 256741\n",
      "Calls 2 minutes: 13029\n",
      "Calls 5 minutes: 4270\n"
     ]
    }
   ],
   "source": [
    "\n",
    "# Calls\n",
    "calls = len(transactions)\n",
    "print(\"Calls:\", calls)\n",
    "\n",
    "# Llamadas donde el usuario no está vacío\n",
    "calls_transfered = transactions[transactions['user'] != 'VDAD'].shape[0]\n",
    "print(\"Calls transfered:\", calls_transfered)\n",
    "\n",
    "# Llamadas mayores a 2 minutos\n",
    "calls_2_minutes = transactions[transactions['duration'] > 120].shape[0]\n",
    "print(\"Calls 2 minutes:\", calls_2_minutes)\n",
    "\n",
    "# Llamadas mayores a 5 minutos\n",
    "calls_5_minutes = transactions[transactions['duration'] > 300].shape[0]\n",
    "print(\"Calls 5 minutes:\", calls_5_minutes)\n"
   ]
  }
 ],
 "metadata": {
  "kernelspec": {
   "display_name": ".venv",
   "language": "python",
   "name": "python3"
  },
  "language_info": {
   "codemirror_mode": {
    "name": "ipython",
    "version": 3
   },
   "file_extension": ".py",
   "mimetype": "text/x-python",
   "name": "python",
   "nbconvert_exporter": "python",
   "pygments_lexer": "ipython3",
   "version": "3.12.6"
  }
 },
 "nbformat": 4,
 "nbformat_minor": 2
}
